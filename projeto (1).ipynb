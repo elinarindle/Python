{
 "cells": [
  {
   "cell_type": "code",
   "execution_count": 1,
   "metadata": {},
   "outputs": [
    {
     "data": {
      "text/plain": [
       "'/Users/maximochterbeck/Library/Mobile Documents/com~apple~CloudDocs/University/FGV/Intro to Python'"
      ]
     },
     "execution_count": 1,
     "metadata": {},
     "output_type": "execute_result"
    }
   ],
   "source": [
    "import os\n",
    "os.getcwd()"
   ]
  },
  {
   "cell_type": "markdown",
   "metadata": {},
   "source": [
    "1) Baixar dados de Github"
   ]
  },
  {
   "cell_type": "code",
   "execution_count": 2,
   "metadata": {},
   "outputs": [
    {
     "data": {
      "text/html": [
       "<div>\n",
       "<style scoped>\n",
       "    .dataframe tbody tr th:only-of-type {\n",
       "        vertical-align: middle;\n",
       "    }\n",
       "\n",
       "    .dataframe tbody tr th {\n",
       "        vertical-align: top;\n",
       "    }\n",
       "\n",
       "    .dataframe thead th {\n",
       "        text-align: right;\n",
       "    }\n",
       "</style>\n",
       "<table border=\"1\" class=\"dataframe\">\n",
       "  <thead>\n",
       "    <tr style=\"text-align: right;\">\n",
       "      <th></th>\n",
       "      <th>Unnamed: 0</th>\n",
       "      <th>NU_ANO_CENSO</th>\n",
       "      <th>NO_REGIAO</th>\n",
       "      <th>CO_REGIAO</th>\n",
       "      <th>NO_UF</th>\n",
       "      <th>SG_UF</th>\n",
       "      <th>CO_UF</th>\n",
       "      <th>NO_MUNICIPIO</th>\n",
       "      <th>CO_MUNICIPIO</th>\n",
       "      <th>NO_MESORREGIAO</th>\n",
       "      <th>...</th>\n",
       "      <th>QT_TUR_FUND_AF</th>\n",
       "      <th>QT_TUR_MED</th>\n",
       "      <th>QT_TUR_PROF</th>\n",
       "      <th>QT_TUR_PROF_TEC</th>\n",
       "      <th>QT_TUR_EJA</th>\n",
       "      <th>QT_TUR_EJA_FUND</th>\n",
       "      <th>QT_TUR_EJA_MED</th>\n",
       "      <th>QT_TUR_ESP</th>\n",
       "      <th>QT_TUR_ESP_CC</th>\n",
       "      <th>QT_TUR_ESP_CE</th>\n",
       "    </tr>\n",
       "  </thead>\n",
       "  <tbody>\n",
       "    <tr>\n",
       "      <th>0</th>\n",
       "      <td>0</td>\n",
       "      <td>2022</td>\n",
       "      <td>Sudeste</td>\n",
       "      <td>3</td>\n",
       "      <td>Rio de Janeiro</td>\n",
       "      <td>RJ</td>\n",
       "      <td>33</td>\n",
       "      <td>Angra dos Reis</td>\n",
       "      <td>3300100</td>\n",
       "      <td>Sul Fluminense</td>\n",
       "      <td>...</td>\n",
       "      <td>10.0</td>\n",
       "      <td>20.0</td>\n",
       "      <td>0.0</td>\n",
       "      <td>0.0</td>\n",
       "      <td>8.0</td>\n",
       "      <td>0.0</td>\n",
       "      <td>8.0</td>\n",
       "      <td>21.0</td>\n",
       "      <td>21.0</td>\n",
       "      <td>0.0</td>\n",
       "    </tr>\n",
       "    <tr>\n",
       "      <th>1</th>\n",
       "      <td>1</td>\n",
       "      <td>2022</td>\n",
       "      <td>Sudeste</td>\n",
       "      <td>3</td>\n",
       "      <td>Rio de Janeiro</td>\n",
       "      <td>RJ</td>\n",
       "      <td>33</td>\n",
       "      <td>Angra dos Reis</td>\n",
       "      <td>3300100</td>\n",
       "      <td>Sul Fluminense</td>\n",
       "      <td>...</td>\n",
       "      <td>4.0</td>\n",
       "      <td>0.0</td>\n",
       "      <td>0.0</td>\n",
       "      <td>0.0</td>\n",
       "      <td>0.0</td>\n",
       "      <td>0.0</td>\n",
       "      <td>0.0</td>\n",
       "      <td>4.0</td>\n",
       "      <td>4.0</td>\n",
       "      <td>0.0</td>\n",
       "    </tr>\n",
       "    <tr>\n",
       "      <th>2</th>\n",
       "      <td>2</td>\n",
       "      <td>2022</td>\n",
       "      <td>Sudeste</td>\n",
       "      <td>3</td>\n",
       "      <td>Rio de Janeiro</td>\n",
       "      <td>RJ</td>\n",
       "      <td>33</td>\n",
       "      <td>Angra dos Reis</td>\n",
       "      <td>3300100</td>\n",
       "      <td>Sul Fluminense</td>\n",
       "      <td>...</td>\n",
       "      <td>0.0</td>\n",
       "      <td>8.0</td>\n",
       "      <td>1.0</td>\n",
       "      <td>1.0</td>\n",
       "      <td>4.0</td>\n",
       "      <td>0.0</td>\n",
       "      <td>4.0</td>\n",
       "      <td>5.0</td>\n",
       "      <td>5.0</td>\n",
       "      <td>0.0</td>\n",
       "    </tr>\n",
       "    <tr>\n",
       "      <th>3</th>\n",
       "      <td>3</td>\n",
       "      <td>2022</td>\n",
       "      <td>Sudeste</td>\n",
       "      <td>3</td>\n",
       "      <td>Rio de Janeiro</td>\n",
       "      <td>RJ</td>\n",
       "      <td>33</td>\n",
       "      <td>Angra dos Reis</td>\n",
       "      <td>3300100</td>\n",
       "      <td>Sul Fluminense</td>\n",
       "      <td>...</td>\n",
       "      <td>8.0</td>\n",
       "      <td>32.0</td>\n",
       "      <td>10.0</td>\n",
       "      <td>10.0</td>\n",
       "      <td>0.0</td>\n",
       "      <td>0.0</td>\n",
       "      <td>0.0</td>\n",
       "      <td>27.0</td>\n",
       "      <td>27.0</td>\n",
       "      <td>0.0</td>\n",
       "    </tr>\n",
       "    <tr>\n",
       "      <th>4</th>\n",
       "      <td>4</td>\n",
       "      <td>2022</td>\n",
       "      <td>Sudeste</td>\n",
       "      <td>3</td>\n",
       "      <td>Rio de Janeiro</td>\n",
       "      <td>RJ</td>\n",
       "      <td>33</td>\n",
       "      <td>Angra dos Reis</td>\n",
       "      <td>3300100</td>\n",
       "      <td>Sul Fluminense</td>\n",
       "      <td>...</td>\n",
       "      <td>8.0</td>\n",
       "      <td>5.0</td>\n",
       "      <td>0.0</td>\n",
       "      <td>0.0</td>\n",
       "      <td>0.0</td>\n",
       "      <td>0.0</td>\n",
       "      <td>0.0</td>\n",
       "      <td>1.0</td>\n",
       "      <td>1.0</td>\n",
       "      <td>0.0</td>\n",
       "    </tr>\n",
       "  </tbody>\n",
       "</table>\n",
       "<p>5 rows × 386 columns</p>\n",
       "</div>"
      ],
      "text/plain": [
       "   Unnamed: 0  NU_ANO_CENSO NO_REGIAO  CO_REGIAO           NO_UF SG_UF  CO_UF  \\\n",
       "0           0          2022   Sudeste          3  Rio de Janeiro    RJ     33   \n",
       "1           1          2022   Sudeste          3  Rio de Janeiro    RJ     33   \n",
       "2           2          2022   Sudeste          3  Rio de Janeiro    RJ     33   \n",
       "3           3          2022   Sudeste          3  Rio de Janeiro    RJ     33   \n",
       "4           4          2022   Sudeste          3  Rio de Janeiro    RJ     33   \n",
       "\n",
       "     NO_MUNICIPIO  CO_MUNICIPIO  NO_MESORREGIAO  ...  QT_TUR_FUND_AF  \\\n",
       "0  Angra dos Reis       3300100  Sul Fluminense  ...            10.0   \n",
       "1  Angra dos Reis       3300100  Sul Fluminense  ...             4.0   \n",
       "2  Angra dos Reis       3300100  Sul Fluminense  ...             0.0   \n",
       "3  Angra dos Reis       3300100  Sul Fluminense  ...             8.0   \n",
       "4  Angra dos Reis       3300100  Sul Fluminense  ...             8.0   \n",
       "\n",
       "  QT_TUR_MED  QT_TUR_PROF  QT_TUR_PROF_TEC QT_TUR_EJA  QT_TUR_EJA_FUND  \\\n",
       "0       20.0          0.0              0.0        8.0              0.0   \n",
       "1        0.0          0.0              0.0        0.0              0.0   \n",
       "2        8.0          1.0              1.0        4.0              0.0   \n",
       "3       32.0         10.0             10.0        0.0              0.0   \n",
       "4        5.0          0.0              0.0        0.0              0.0   \n",
       "\n",
       "   QT_TUR_EJA_MED  QT_TUR_ESP  QT_TUR_ESP_CC  QT_TUR_ESP_CE  \n",
       "0             8.0        21.0           21.0            0.0  \n",
       "1             0.0         4.0            4.0            0.0  \n",
       "2             4.0         5.0            5.0            0.0  \n",
       "3             0.0        27.0           27.0            0.0  \n",
       "4             0.0         1.0            1.0            0.0  \n",
       "\n",
       "[5 rows x 386 columns]"
      ]
     },
     "execution_count": 2,
     "metadata": {},
     "output_type": "execute_result"
    }
   ],
   "source": [
    "import pandas as pd\n",
    " \n",
    "import ssl\n",
    "ssl._create_default_https_context = ssl._create_unverified_context\n",
    "\n",
    "df = pd.read_csv(\"https://raw.githubusercontent.com/drobaina/Python/main/microdados_ed_basica_RJ_2022.csv\", header=0)\n",
    "df.head()\n"
   ]
  },
  {
   "cell_type": "code",
   "execution_count": null,
   "metadata": {},
   "outputs": [],
   "source": []
  },
  {
   "cell_type": "code",
   "execution_count": null,
   "metadata": {},
   "outputs": [],
   "source": []
  },
  {
   "cell_type": "markdown",
   "metadata": {},
   "source": [
    "2) Filtrar cidade: Rio de Janeiro"
   ]
  },
  {
   "cell_type": "code",
   "execution_count": 21,
   "metadata": {},
   "outputs": [
    {
     "name": "stdout",
     "output_type": "stream",
     "text": [
      "NO_MUNICIPIO\n",
      "Angra dos Reis        163\n",
      "Aperibé                25\n",
      "Araruama              190\n",
      "Areal                  21\n",
      "Armação dos Búzios     37\n",
      "                     ... \n",
      "Três Rios              73\n",
      "Valença               116\n",
      "Varre-Sai              35\n",
      "Vassouras              60\n",
      "Volta Redonda         200\n",
      "Length: 92, dtype: int64\n"
     ]
    }
   ],
   "source": [
    "city_counts = df.groupby('NO_MUNICIPIO').size()\n",
    "print(city_counts)\n",
    "df_rdj = df[df['NO_MUNICIPIO'] == 'Rio de Janeiro']\n",
    "\n"
   ]
  },
  {
   "cell_type": "markdown",
   "metadata": {},
   "source": [
    "3) Grouping by Variable:"
   ]
  },
  {
   "cell_type": "code",
   "execution_count": 51,
   "metadata": {},
   "outputs": [
    {
     "data": {
      "text/html": [
       "<div>\n",
       "<style scoped>\n",
       "    .dataframe tbody tr th:only-of-type {\n",
       "        vertical-align: middle;\n",
       "    }\n",
       "\n",
       "    .dataframe tbody tr th {\n",
       "        vertical-align: top;\n",
       "    }\n",
       "\n",
       "    .dataframe thead th {\n",
       "        text-align: right;\n",
       "    }\n",
       "</style>\n",
       "<table border=\"1\" class=\"dataframe\">\n",
       "  <thead>\n",
       "    <tr style=\"text-align: right;\">\n",
       "      <th></th>\n",
       "      <th>TP_DEPENDENCIA</th>\n",
       "      <th>QT_SALAS_UTILIZADAS</th>\n",
       "      <th>QT_SALAS_UTILIZA_CLIMATIZADAS</th>\n",
       "    </tr>\n",
       "  </thead>\n",
       "  <tbody>\n",
       "    <tr>\n",
       "      <th>0</th>\n",
       "      <td>1</td>\n",
       "      <td>36.600000</td>\n",
       "      <td>31.520000</td>\n",
       "    </tr>\n",
       "    <tr>\n",
       "      <th>1</th>\n",
       "      <td>2</td>\n",
       "      <td>14.903226</td>\n",
       "      <td>10.374194</td>\n",
       "    </tr>\n",
       "    <tr>\n",
       "      <th>2</th>\n",
       "      <td>3</td>\n",
       "      <td>10.684143</td>\n",
       "      <td>8.275575</td>\n",
       "    </tr>\n",
       "    <tr>\n",
       "      <th>3</th>\n",
       "      <td>4</td>\n",
       "      <td>11.766010</td>\n",
       "      <td>9.332020</td>\n",
       "    </tr>\n",
       "  </tbody>\n",
       "</table>\n",
       "</div>"
      ],
      "text/plain": [
       "   TP_DEPENDENCIA  QT_SALAS_UTILIZADAS  QT_SALAS_UTILIZA_CLIMATIZADAS\n",
       "0               1            36.600000                      31.520000\n",
       "1               2            14.903226                      10.374194\n",
       "2               3            10.684143                       8.275575\n",
       "3               4            11.766010                       9.332020"
      ]
     },
     "execution_count": 51,
     "metadata": {},
     "output_type": "execute_result"
    }
   ],
   "source": [
    "rooms = df_rdj.groupby('TP_DEPENDENCIA').agg({\n",
    "    'QT_SALAS_UTILIZADAS': 'mean',\n",
    "    'QT_SALAS_UTILIZA_CLIMATIZADAS': 'mean'\n",
    "}).reset_index()\n",
    "rooms\n",
    "\n"
   ]
  },
  {
   "cell_type": "markdown",
   "metadata": {},
   "source": [
    "Chart\n"
   ]
  },
  {
   "cell_type": "code",
   "execution_count": 61,
   "metadata": {},
   "outputs": [
    {
     "data": {
      "image/png": "[encoded data removed]",
      "text/plain": [
       "<Figure size 1000x600 with 1 Axes>"
      ]
     },
     "metadata": {},
     "output_type": "display_data"
    }
   ],
   "source": [
    "import matplotlib.pyplot as plt\n",
    "\n",
    "# Plotting\n",
    "fig, ax = plt.subplots(figsize=(10, 6))\n",
    "\n",
    "# Bar width\n",
    "width = 0.4\n",
    "\n",
    "# X locations\n",
    "x = rooms['TP_DEPENDENCIA']\n",
    "\n",
    "# Create overlapping bars\n",
    "ax.bar(x, rooms['QT_SALAS_UTILIZADAS'], width, label='Salas Totais Utilizadas', alpha=0.7)\n",
    "ax.bar(x, rooms['QT_SALAS_UTILIZA_CLIMATIZADAS'], width, label='Salas Climatizadas Utilizadas', alpha=0.7)\n",
    "\n",
    "# Setting labels and title in Portuguese\n",
    "ax.set_xlabel('Tipo de Dependência')\n",
    "ax.set_ylabel('Média de Salas')\n",
    "ax.set_title('Comparação de Salas por Tipo de Dependência')\n",
    "\n",
    "# Custom x-tick labels\n",
    "custom_labels = [\"1 - Federal\", \"2 - Estadual\", \"3 - Municipal\", \"4 - Privada\"]\n",
    "ax.set_xticks(rooms['TP_DEPENDENCIA'])\n",
    "ax.set_xticklabels(custom_labels)\n",
    "\n",
    "ax.legend()\n",
    "\n",
    "plt.tight_layout()\n",
    "plt.show()\n"
   ]
  },
  {
   "cell_type": "markdown",
   "metadata": {},
   "source": [
    "Observando os valores, percebe-se que as escolas de dependência federal têm, em média, o maior número de salas utilizadas, com 36,6 salas, das quais 31,52 são climatizadas. As escolas estaduais possuem uma média de 14,9 salas utilizadas, com 10,37 delas climatizadas. Já as escolas municipais contam com uma média de 10,68 salas utilizadas, e 8,27 destas são climatizadas. Por último, as escolas privadas têm uma média de 11,76 salas utilizadas, das quais 9,33 são climatizadas. Isso indica que as escolas federais possuem infraestrutura superior em termos de quantidade de salas, enquanto as outras categorias mostram-se mais próximas em valores."
   ]
  },
  {
   "cell_type": "markdown",
   "metadata": {},
   "source": [
    "Grouping 2\n"
   ]
  },
  {
   "cell_type": "code",
   "execution_count": 5,
   "metadata": {},
   "outputs": [
    {
     "name": "stdout",
     "output_type": "stream",
     "text": [
      "   IN_DESKTOP_ALUNO  IN_INTERNET_ALUNOS  Contagem      Categoria\n",
      "0               0.0                 0.0      1157         Nenhum\n",
      "1               0.0                 1.0       272    Só internet\n",
      "2               1.0                 0.0      1177  Só computador\n",
      "3               1.0                 1.0      1323          Ambos\n"
     ]
    }
   ],
   "source": [
    "filtro = df[df['NO_MUNICIPIO'] == 'Rio de Janeiro']\n",
    "\n",
    "grupo = filtro.groupby(['IN_DESKTOP_ALUNO', 'IN_INTERNET_ALUNOS']).size().reset_index(name='Contagem')\n",
    "\n",
    "# Função para atribuir categorias\n",
    "def atribuir_categoria(linha):\n",
    "    if linha['IN_DESKTOP_ALUNO'] == 0 and linha['IN_INTERNET_ALUNOS'] == 0:\n",
    "        return 'Nenhum'\n",
    "    elif linha['IN_DESKTOP_ALUNO'] == 0 and linha['IN_INTERNET_ALUNOS'] == 1:\n",
    "        return 'Só internet'\n",
    "    elif linha['IN_DESKTOP_ALUNO'] == 1 and linha['IN_INTERNET_ALUNOS'] == 0:\n",
    "        return 'Só computador'\n",
    "    else:\n",
    "        return 'Ambos'\n",
    "\n",
    "grupo['Categoria'] = grupo.apply(atribuir_categoria, axis=1)\n",
    "\n",
    "print(grupo)"
   ]
  },
  {
   "cell_type": "markdown",
   "metadata": {},
   "source": [
    "Graph 2\n"
   ]
  },
  {
   "cell_type": "code",
   "execution_count": 8,
   "metadata": {},
   "outputs": [
    {
     "data": {
      "image/png": "[encoded data removed]",
      "text/plain": [
       "<Figure size 640x480 with 1 Axes>"
      ]
     },
     "metadata": {},
     "output_type": "display_data"
    }
   ],
   "source": [
    "import matplotlib.pyplot as plt \n",
    "\n",
    "plt.bar(grupo['Categoria'], grupo['Contagem'])\n",
    "plt.title(\"Os alunos do Rio de Janeiro têm acesso a computadores e à Internet na escola?\")\n",
    "plt.ylabel(\"Número de estudantes\")\n",
    "plt.xticks(rotation=45)\n",
    "plt.show()"
   ]
  },
  {
   "cell_type": "markdown",
   "metadata": {},
   "source": [
    "O gráfico mostra a distribuição do acesso à Internet e ao computador, bem como a interseção entre os dois. Ele mostra visualmente o número de alunos que não têm internet ou computador disponível em sua escola, bem como internet e computador disponíveis e todas as opções intermediárias. É interessante notar que a maioria está distribuída de forma bastante homogênea entre nenhum dos dois, somente computador ou ambos, mas somente internet não é tão comum. Isso mostra claramente que as escolas do Rio de Janeiro não estão equipadas com nada ou podem, pelo menos, fornecer aos alunos acesso a computadores. "
   ]
  }
 ],
 "metadata": {
  "kernelspec": {
   "display_name": "Python 3",
   "language": "python",
   "name": "python3"
  },
  "language_info": {
   "codemirror_mode": {
    "name": "ipython",
    "version": 3
   },
   "file_extension": ".py",
   "mimetype": "text/x-python",
   "name": "python",
   "nbconvert_exporter": "python",
   "pygments_lexer": "ipython3",
   "version": "3.11.4"
  },
  "orig_nbformat": 4
 },
 "nbformat": 4,
 "nbformat_minor": 2
}
